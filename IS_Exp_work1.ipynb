{
 "cells": [
  {
   "cell_type": "code",
   "execution_count": 1,
   "metadata": {
    "collapsed": true,
    "ExecuteTime": {
     "end_time": "2023-05-11T08:05:02.415519700Z",
     "start_time": "2023-05-11T08:05:02.386084300Z"
    }
   },
   "outputs": [
    {
     "data": {
      "text/plain": "   work_year experience_level employment_type               job_title  salary  \\\n0       2022               EN              FT   Cyber Program Manager   63000   \n1       2022               MI              FT        Security Analyst   95000   \n2       2022               MI              FT        Security Analyst   70000   \n3       2022               MI              FT     IT Security Analyst  250000   \n4       2022               EN              CT  Cyber Security Analyst  120000   \n\n  salary_currency  salary_in_usd employee_residence  remote_ratio  \\\n0             USD          63000                 US            50   \n1             USD          95000                 US             0   \n2             USD          70000                 US             0   \n3             BRL          48853                 BR            50   \n4             USD         120000                 BW           100   \n\n  company_location company_size  \n0               US            S  \n1               US            M  \n2               US            M  \n3               BR            L  \n4               BW            S  ",
      "text/html": "<div>\n<style scoped>\n    .dataframe tbody tr th:only-of-type {\n        vertical-align: middle;\n    }\n\n    .dataframe tbody tr th {\n        vertical-align: top;\n    }\n\n    .dataframe thead th {\n        text-align: right;\n    }\n</style>\n<table border=\"1\" class=\"dataframe\">\n  <thead>\n    <tr style=\"text-align: right;\">\n      <th></th>\n      <th>work_year</th>\n      <th>experience_level</th>\n      <th>employment_type</th>\n      <th>job_title</th>\n      <th>salary</th>\n      <th>salary_currency</th>\n      <th>salary_in_usd</th>\n      <th>employee_residence</th>\n      <th>remote_ratio</th>\n      <th>company_location</th>\n      <th>company_size</th>\n    </tr>\n  </thead>\n  <tbody>\n    <tr>\n      <th>0</th>\n      <td>2022</td>\n      <td>EN</td>\n      <td>FT</td>\n      <td>Cyber Program Manager</td>\n      <td>63000</td>\n      <td>USD</td>\n      <td>63000</td>\n      <td>US</td>\n      <td>50</td>\n      <td>US</td>\n      <td>S</td>\n    </tr>\n    <tr>\n      <th>1</th>\n      <td>2022</td>\n      <td>MI</td>\n      <td>FT</td>\n      <td>Security Analyst</td>\n      <td>95000</td>\n      <td>USD</td>\n      <td>95000</td>\n      <td>US</td>\n      <td>0</td>\n      <td>US</td>\n      <td>M</td>\n    </tr>\n    <tr>\n      <th>2</th>\n      <td>2022</td>\n      <td>MI</td>\n      <td>FT</td>\n      <td>Security Analyst</td>\n      <td>70000</td>\n      <td>USD</td>\n      <td>70000</td>\n      <td>US</td>\n      <td>0</td>\n      <td>US</td>\n      <td>M</td>\n    </tr>\n    <tr>\n      <th>3</th>\n      <td>2022</td>\n      <td>MI</td>\n      <td>FT</td>\n      <td>IT Security Analyst</td>\n      <td>250000</td>\n      <td>BRL</td>\n      <td>48853</td>\n      <td>BR</td>\n      <td>50</td>\n      <td>BR</td>\n      <td>L</td>\n    </tr>\n    <tr>\n      <th>4</th>\n      <td>2022</td>\n      <td>EN</td>\n      <td>CT</td>\n      <td>Cyber Security Analyst</td>\n      <td>120000</td>\n      <td>USD</td>\n      <td>120000</td>\n      <td>BW</td>\n      <td>100</td>\n      <td>BW</td>\n      <td>S</td>\n    </tr>\n  </tbody>\n</table>\n</div>"
     },
     "execution_count": 1,
     "metadata": {},
     "output_type": "execute_result"
    }
   ],
   "source": [
    "import pandas as pd\n",
    "\n",
    "pd.set_option('display.max_rows', None)  # 显示所有行\n",
    "data = pd.read_csv(r\"D:\\PycharmProjects\\informationSecurity\\data\\salaries_cyber.csv\")\n",
    "data.head()"
   ]
  },
  {
   "cell_type": "code",
   "execution_count": 2,
   "outputs": [
    {
     "name": "stdout",
     "output_type": "stream",
     "text": [
      "The size of the dataset is (1247, 11)\n"
     ]
    }
   ],
   "source": [
    "print('The size of the dataset is {}'.format(data.shape))"
   ],
   "metadata": {
    "collapsed": false,
    "ExecuteTime": {
     "end_time": "2023-05-11T08:05:02.452422500Z",
     "start_time": "2023-05-11T08:05:02.415519700Z"
    }
   }
  },
  {
   "cell_type": "code",
   "execution_count": 3,
   "outputs": [
    {
     "name": "stdout",
     "output_type": "stream",
     "text": [
      "Missing values in the dataset\n",
      " work_year             0\n",
      "experience_level      0\n",
      "employment_type       0\n",
      "job_title             0\n",
      "salary                0\n",
      "salary_currency       0\n",
      "salary_in_usd         0\n",
      "employee_residence    0\n",
      "remote_ratio          0\n",
      "company_location      0\n",
      "company_size          0\n",
      "dtype: int64\n"
     ]
    }
   ],
   "source": [
    "print('Missing values in the dataset\\n', data.isnull().sum())"
   ],
   "metadata": {
    "collapsed": false,
    "ExecuteTime": {
     "end_time": "2023-05-11T08:05:02.471369200Z",
     "start_time": "2023-05-11T08:05:02.433472200Z"
    }
   }
  },
  {
   "cell_type": "code",
   "execution_count": 4,
   "outputs": [
    {
     "name": "stdout",
     "output_type": "stream",
     "text": [
      "Unique identifier for each data item\n",
      " work_year               3\n",
      "experience_level        4\n",
      "employment_type         4\n",
      "job_title              87\n",
      "salary                384\n",
      "salary_currency        21\n",
      "salary_in_usd         579\n",
      "employee_residence     58\n",
      "remote_ratio            3\n",
      "company_location       55\n",
      "company_size            3\n",
      "dtype: int64\n"
     ]
    }
   ],
   "source": [
    "print('Unique identifier for each data item\\n', data.nunique())"
   ],
   "metadata": {
    "collapsed": false,
    "ExecuteTime": {
     "end_time": "2023-05-11T08:05:02.566632800Z",
     "start_time": "2023-05-11T08:05:02.449428300Z"
    }
   }
  },
  {
   "cell_type": "code",
   "execution_count": 5,
   "outputs": [
    {
     "name": "stdout",
     "output_type": "stream",
     "text": [
      "<class 'pandas.core.frame.DataFrame'>\n",
      "RangeIndex: 1247 entries, 0 to 1246\n",
      "Data columns (total 11 columns):\n",
      " #   Column              Non-Null Count  Dtype \n",
      "---  ------              --------------  ----- \n",
      " 0   work_year           1247 non-null   int64 \n",
      " 1   experience_level    1247 non-null   object\n",
      " 2   employment_type     1247 non-null   object\n",
      " 3   job_title           1247 non-null   object\n",
      " 4   salary              1247 non-null   int64 \n",
      " 5   salary_currency     1247 non-null   object\n",
      " 6   salary_in_usd       1247 non-null   int64 \n",
      " 7   employee_residence  1247 non-null   object\n",
      " 8   remote_ratio        1247 non-null   int64 \n",
      " 9   company_location    1247 non-null   object\n",
      " 10  company_size        1247 non-null   object\n",
      "dtypes: int64(4), object(7)\n",
      "memory usage: 107.3+ KB\n"
     ]
    }
   ],
   "source": [
    "data.info()"
   ],
   "metadata": {
    "collapsed": false,
    "ExecuteTime": {
     "end_time": "2023-05-11T08:05:02.623997400Z",
     "start_time": "2023-05-11T08:05:02.471369200Z"
    }
   }
  },
  {
   "cell_type": "code",
   "execution_count": 5,
   "outputs": [],
   "source": [],
   "metadata": {
    "collapsed": false,
    "ExecuteTime": {
     "end_time": "2023-05-11T08:05:02.635967400Z",
     "start_time": "2023-05-11T08:05:02.480345Z"
    }
   }
  }
 ],
 "metadata": {
  "kernelspec": {
   "display_name": "Python 3",
   "language": "python",
   "name": "python3"
  },
  "language_info": {
   "codemirror_mode": {
    "name": "ipython",
    "version": 2
   },
   "file_extension": ".py",
   "mimetype": "text/x-python",
   "name": "python",
   "nbconvert_exporter": "python",
   "pygments_lexer": "ipython2",
   "version": "2.7.6"
  }
 },
 "nbformat": 4,
 "nbformat_minor": 0
}
